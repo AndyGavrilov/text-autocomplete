{
 "cells": [
  {
   "cell_type": "code",
   "execution_count": null,
   "id": "98717df6",
   "metadata": {},
   "outputs": [
    {
     "name": "stderr",
     "output_type": "stream",
     "text": [
      "s:\\yandex\\text-autocomplete\\.conda\\Lib\\site-packages\\tqdm\\auto.py:21: TqdmWarning: IProgress not found. Please update jupyter and ipywidgets. See https://ipywidgets.readthedocs.io/en/stable/user_install.html\n",
      "  from .autonotebook import tqdm as notebook_tqdm\n"
     ]
    }
   ],
   "source": [
    "import json\n",
    "import logging\n",
    "import os\n",
    "import random\n",
    "import re\n",
    "from pathlib import Path\n",
    "\n",
    "import evaluate\n",
    "import matplotlib.pyplot as plt\n",
    "import pandas as pd\n",
    "import torch\n",
    "import torch.nn as nn\n",
    "import torch.nn.functional as F\n",
    "from sklearn.model_selection import train_test_split\n",
    "from torch.nn.utils.rnn import pad_sequence\n",
    "from torch.utils.data import Dataset, DataLoader\n",
    "from tqdm import tqdm\n",
    "from transformers import AutoModelForCausalLM, AutoTokenizer, BertTokenizerFast, pipeline\n",
    "\n",
    "from src.eval_lstm import evaluate_rouge\n",
    "from src.configs import CONFIG, DATA_PATH, PROJECT_PATH, ROUGE\n",
    "from src.next_token_dataset import LMTextDataset, collate_fn\n",
    "from src.lstm_model import LSTMLanguageModel\n",
    "from src.lstm_train import train_model\n",
    "from src.utils.utils import load_tweets, process_tweets_dataset, split_data"
   ]
  },
  {
   "cell_type": "code",
   "execution_count": 2,
   "id": "7f8325f8",
   "metadata": {},
   "outputs": [],
   "source": [
    "logging.basicConfig(level=logging.INFO)"
   ]
  },
  {
   "cell_type": "code",
   "execution_count": 3,
   "id": "c2cdf65a",
   "metadata": {},
   "outputs": [
    {
     "data": {
      "text/plain": [
       "(device(type='cuda'), '2.5.1+cu124')"
      ]
     },
     "execution_count": 3,
     "metadata": {},
     "output_type": "execute_result"
    }
   ],
   "source": [
    "device = torch.device(\"cuda\" if torch.cuda.is_available() else \"cpu\")\n",
    "device, torch.__version__"
   ]
  },
  {
   "cell_type": "code",
   "execution_count": 4,
   "id": "465bc58d",
   "metadata": {},
   "outputs": [
    {
     "data": {
      "text/plain": [
       "<torch._C.Generator at 0x14fc554c210>"
      ]
     },
     "execution_count": 4,
     "metadata": {},
     "output_type": "execute_result"
    }
   ],
   "source": [
    "random.seed(42)\n",
    "torch.manual_seed(42)"
   ]
  },
  {
   "cell_type": "code",
   "execution_count": 5,
   "id": "6b4937c9",
   "metadata": {},
   "outputs": [],
   "source": [
    "# Загружаем токенизатор\n",
    "tokenizer = AutoTokenizer.from_pretrained(\"bert-base-uncased\")"
   ]
  },
  {
   "cell_type": "code",
   "execution_count": 6,
   "id": "3e8e5cc4",
   "metadata": {},
   "outputs": [
    {
     "name": "stderr",
     "output_type": "stream",
     "text": [
      "INFO:src.utils.utils:Загружаем обработанные данные из s:\\yandex\\text-autocomplete\\data\\processed_tweets.json\n"
     ]
    }
   ],
   "source": [
    "# Загружаем и обрабатываем твиты\n",
    "processed_texts = process_tweets_dataset(\n",
    "    tokenizer=tokenizer\n",
    ")"
   ]
  },
  {
   "cell_type": "code",
   "execution_count": 7,
   "id": "6648560b",
   "metadata": {},
   "outputs": [
    {
     "name": "stdout",
     "output_type": "stream",
     "text": [
      "['user', 'ur', '##l', 'aw', '##w', '##w', ',', 'that', \"'\", 's', 'a', 'bum', '##mer', '.', 'you', 'should', '##a', 'got', 'david', 'carr', 'of', 'third', 'day', 'to', 'do', 'it', '.', ';', 'd']\n"
     ]
    }
   ],
   "source": [
    "print(processed_texts[0])"
   ]
  },
  {
   "cell_type": "markdown",
   "id": "98ee7909",
   "metadata": {},
   "source": []
  },
  {
   "cell_type": "code",
   "execution_count": 8,
   "id": "82ec8869",
   "metadata": {},
   "outputs": [
    {
     "name": "stderr",
     "output_type": "stream",
     "text": [
      "INFO:src.utils.utils:Загружаем разделенные данные из файлов\n",
      "INFO:src.utils.utils:Загружено: train=1280398, val=160050, test=160050\n"
     ]
    }
   ],
   "source": [
    "train_texts, val_texts, test_texts = split_data(\n",
    "    processed_texts\n",
    ")"
   ]
  },
  {
   "cell_type": "code",
   "execution_count": 9,
   "id": "ad435c58",
   "metadata": {},
   "outputs": [],
   "source": [
    "pad_token_id = tokenizer.pad_token_id or 0  # если у токенизатора нет pad_token, то используем 0"
   ]
  },
  {
   "cell_type": "code",
   "execution_count": 10,
   "id": "17d86be0",
   "metadata": {},
   "outputs": [],
   "source": [
    "train_dataset = LMTextDataset(train_texts, tokenizer)\n",
    "val_dataset   = LMTextDataset(val_texts, tokenizer)\n",
    "test_dataset  = LMTextDataset(test_texts, tokenizer)\n",
    "\n",
    "batch_size = CONFIG['training']['batch_size']\n",
    "\n",
    "train_loader = DataLoader(\n",
    "    train_dataset,\n",
    "    batch_size=batch_size,\n",
    "    shuffle=True,\n",
    "    collate_fn=lambda b: collate_fn(b, pad_token_id))\n",
    "\n",
    "val_loader = DataLoader(\n",
    "    val_dataset,\n",
    "    batch_size=batch_size,\n",
    "    collate_fn=lambda b: collate_fn(b, pad_token_id))\n",
    "    \n",
    "test_loader  = DataLoader(\n",
    "    test_dataset,\n",
    "    batch_size=batch_size,\n",
    "    collate_fn=lambda b: collate_fn(b, pad_token_id))"
   ]
  },
  {
   "cell_type": "code",
   "execution_count": null,
   "id": "afed2bb6",
   "metadata": {},
   "outputs": [],
   "source": []
  },
  {
   "cell_type": "markdown",
   "id": "22bf0b04",
   "metadata": {},
   "source": [
    "Шаг 2"
   ]
  },
  {
   "cell_type": "markdown",
   "id": "87b37a94",
   "metadata": {},
   "source": [
    "Шаг 3"
   ]
  },
  {
   "cell_type": "markdown",
   "id": "7bdefa60",
   "metadata": {},
   "source": [
    "Использование"
   ]
  },
  {
   "cell_type": "code",
   "execution_count": 11,
   "id": "08f7eb53",
   "metadata": {},
   "outputs": [],
   "source": [
    "vocab_size = tokenizer.vocab_size"
   ]
  },
  {
   "cell_type": "code",
   "execution_count": 13,
   "id": "6a753a60",
   "metadata": {},
   "outputs": [
    {
     "name": "stderr",
     "output_type": "stream",
     "text": [
      "Epoch 1/2: 100%|██████████| 40013/40013 [16:20<00:00, 40.81it/s]  \n",
      "INFO:absl:Using default tokenizer.\n",
      "INFO:src.lstm_train:Epoch 1: Train Loss=5.4271, Val Loss=4.8823, Val ROUGE-L=0.0294\n",
      "INFO:src.lstm_train:Сохранена новая лучшая модель (ROUGE-L=0.0294)\n",
      "INFO:src.lstm_train:Сохранена модель эпохи 1\n",
      "Epoch 2/2: 100%|██████████| 40013/40013 [18:28<00:00, 36.11it/s]  \n",
      "INFO:absl:Using default tokenizer.\n",
      "INFO:src.lstm_train:Epoch 2: Train Loss=4.7885, Val Loss=4.6680, Val ROUGE-L=0.0294\n",
      "INFO:src.lstm_train:Сохранена новая лучшая модель (ROUGE-L=0.0294)\n",
      "INFO:src.lstm_train:Сохранена модель эпохи 2\n",
      "INFO:src.lstm_train:Обучение завершено. Лучший ROUGE-L=0.0294\n",
      "INFO:src.lstm_train:Лучшая модель сохранена в s:\\yandex\\text-autocomplete\\models\\best_model.pt\n"
     ]
    },
    {
     "data": {
      "image/png": "[encoded data removed]",
      "text/plain": [
       "<Figure size 1500x500 with 2 Axes>"
      ]
     },
     "metadata": {},
     "output_type": "display_data"
    },
    {
     "name": "stdout",
     "output_type": "stream",
     "text": [
      "Генерация примера...\n",
      "Generated: i am feeling now. i am still in bed in my room\n"
     ]
    },
    {
     "name": "stderr",
     "output_type": "stream",
     "text": [
      "C:\\Users\\gavri\\AppData\\Local\\Temp\\ipykernel_32824\\1260025172.py:29: FutureWarning: You are using `torch.load` with `weights_only=False` (the current default value), which uses the default pickle module implicitly. It is possible to construct malicious pickle data which will execute arbitrary code during unpickling (See https://github.com/pytorch/pytorch/blob/main/SECURITY.md#untrusted-models for more details). In a future release, the default value for `weights_only` will be flipped to `True`. This limits the functions that could be executed during unpickling. Arbitrary objects will no longer be allowed to be loaded via this mode unless they are explicitly allowlisted by the user via `torch.serialization.add_safe_globals`. We recommend you start setting `weights_only=True` for any use case where you don't have full control of the loaded file. Please open an issue on GitHub for any issues related to this experimental feature.\n",
      "  best_model.load_state_dict(torch.load(best_path))\n"
     ]
    }
   ],
   "source": [
    "\n",
    "embed_dim = CONFIG['model']['embed_dim']\n",
    "hidden_dim = CONFIG['model']['hidden_dim']\n",
    "num_layers = CONFIG['model']['num_layers']\n",
    "\n",
    "model = LSTMLanguageModel(\n",
    "    vocab_size=vocab_size,\n",
    "    embed_dim=embed_dim,\n",
    "    hidden_dim=hidden_dim,\n",
    "    num_layers=num_layers,\n",
    "    pad_token_id=pad_token_id\n",
    ")\n",
    "\n",
    "trained_model, best_path = train_model(\n",
    "    model, train_loader, val_loader, tokenizer, device,\n",
    "    epochs=CONFIG['training']['epochs'],\n",
    "    lr=CONFIG['training']['lr'],\n",
    "    weight_decay=CONFIG['training']['weight_decay'],\n",
    "    pad_token_id=pad_token_id\n",
    ")\n",
    "\n",
    "# Загружаем лучший чекпойнт\n",
    "best_model = LSTMLanguageModel(\n",
    "    vocab_size=vocab_size,\n",
    "    embed_dim=embed_dim,\n",
    "    hidden_dim=hidden_dim,\n",
    "    num_layers=num_layers,\n",
    "    pad_token_id=pad_token_id\n",
    ").to(device)\n",
    "best_model.load_state_dict(torch.load(best_path))\n",
    "\n",
    "# Генерация примера\n",
    "print(\"Генерация примера...\")\n",
    "sample_text = \"i am feeling\"\n",
    "input_ids = tokenizer.encode(sample_text, return_tensors=\"pt\").to(device)\n",
    "print(\"Generated:\", best_model.generate(input_ids, tokenizer, max_new_tokens=10, top_k=20))\n"
   ]
  },
  {
   "cell_type": "code",
   "execution_count": null,
   "id": "11290aa1",
   "metadata": {},
   "outputs": [],
   "source": []
  },
  {
   "cell_type": "code",
   "execution_count": 10,
   "id": "3d1b6481",
   "metadata": {},
   "outputs": [
    {
     "name": "stdout",
     "output_type": "stream",
     "text": [
      "Загрузка предобученной модели distilgpt2...\n"
     ]
    },
    {
     "name": "stderr",
     "output_type": "stream",
     "text": [
      "Device set to use cuda:0\n"
     ]
    },
    {
     "name": "stdout",
     "output_type": "stream",
     "text": [
      "Модель загружена успешно!\n"
     ]
    }
   ],
   "source": [
    "# Инициализация предобученной модели distilgpt2\n",
    "print(\"Загрузка предобученной модели distilgpt2...\")\n",
    "generator = pipeline(\"text-generation\", model=\"distilgpt2\", device=0 if torch.cuda.is_available() else -1)\n",
    "distil_tokenizer = AutoTokenizer.from_pretrained(\"distilgpt2\")\n",
    "distil_model = AutoModelForCausalLM.from_pretrained(\"distilgpt2\")\n",
    "\n",
    "# Добавляем pad_token если его нет\n",
    "if distil_tokenizer.pad_token is None:\n",
    "    distil_tokenizer.pad_token = distil_tokenizer.eos_token\n",
    "\n",
    "print(\"Модель загружена успешно!\")"
   ]
  },
  {
   "cell_type": "code",
   "execution_count": 43,
   "id": "62709f92",
   "metadata": {},
   "outputs": [],
   "source": [
    "def generate_with_distilgpt2(text, max_new_tokens=20, do_sample=True, top_k=50, top_p=0.95, temperature=1.0):\n",
    "    \"\"\"\n",
    "    Генерация текста с помощью distilgpt2.\n",
    "    \n",
    "    Args:\n",
    "        text (str): Входной контекст.\n",
    "        max_new_tokens (int): Максимальное количество новых токенов для генерации.\n",
    "        do_sample (bool): Использовать ли сэмплирование.\n",
    "        top_k (int): Параметр top-k сэмплирования.\n",
    "        top_p (float): Параметр top-p (nucleus) сэмплирования.\n",
    "        temperature (float): Температура сэмплирования.\n",
    "        \n",
    "    Returns:\n",
    "        str: Сгенерированный текст.\n",
    "    \"\"\"\n",
    "    # Подготавливаем параметры генерации\n",
    "    generation_kwargs = {\n",
    "        \"max_new_tokens\": max_new_tokens,\n",
    "        \"do_sample\": do_sample,\n",
    "        \"temperature\": temperature,\n",
    "        \"pad_token_id\": distil_tokenizer.eos_token_id,\n",
    "        \"truncation\": True\n",
    "    }\n",
    "    \n",
    "    # Добавляем параметры сэмплирования только если используется сэмплирование\n",
    "    if do_sample:\n",
    "        generation_kwargs.update({\n",
    "            \"top_k\": top_k,\n",
    "            \"top_p\": top_p\n",
    "        })\n",
    "    \n",
    "    result = generator(text, **generation_kwargs)\n",
    "    return result[0][\"generated_text\"]"
   ]
  },
  {
   "cell_type": "code",
   "execution_count": 23,
   "id": "70af0603",
   "metadata": {},
   "outputs": [],
   "source": [
    "def evaluate_distilgpt2_rouge(val_texts, max_samples=2000, max_new_tokens=20, \n",
    "                              do_sample=True, top_k=50, top_p=0.95, temperature=1.0):\n",
    "    \"\"\"\n",
    "    Оценка качества distilgpt2 с помощью метрики ROUGE.\n",
    "    \n",
    "    Args:\n",
    "        val_texts (list): Список валидационных текстов (исходные строки).\n",
    "        max_samples (int): Максимальное количество примеров для оценки.\n",
    "        max_new_tokens (int): Максимальное количество новых токенов для генерации.\n",
    "        do_sample (bool): Использовать ли сэмплирование.\n",
    "        top_k (int): Параметр top-k сэмплирования.\n",
    "        top_p (float): Параметр top-p сэмплирования.\n",
    "        temperature (float): Температура сэмплирования.\n",
    "        \n",
    "    Returns:\n",
    "        dict: Словарь с метриками ROUGE.\n",
    "    \"\"\"\n",
    "    preds, refs = [], []\n",
    "    processed = 0\n",
    "    \n",
    "    print(f\"Оценка distilgpt2 на {min(len(val_texts), max_samples)} примерах...\")\n",
    "    \n",
    "    for i, text in enumerate(tqdm(val_texts[:max_samples])):\n",
    "        if processed >= max_samples:\n",
    "            break\n",
    "            \n",
    "        # Проверяем, что text - это строка, а не список токенов\n",
    "        if isinstance(text, list):\n",
    "            # Если это список токенов, пропускаем этот пример\n",
    "            continue\n",
    "            \n",
    "        # Предобработка текста - получаем строку, а не токены\n",
    "        processed_text = preprocess_text(text, tokenizer=None)  # Не используем токенизатор\n",
    "        \n",
    "        # Теперь токенизируем с помощью distil_tokenizer\n",
    "        tokens = distil_tokenizer.tokenize(processed_text)\n",
    "        if len(tokens) < 4:\n",
    "            continue\n",
    "            \n",
    "        # Берем первые 75% как контекст\n",
    "        cutoff = max(1, int(len(tokens) * 0.75))\n",
    "        context_tokens = tokens[:cutoff]\n",
    "        target_tokens = tokens[cutoff:]\n",
    "        \n",
    "        if len(target_tokens) == 0:\n",
    "            continue\n",
    "            \n",
    "        # Декодируем контекст\n",
    "        context_text = distil_tokenizer.convert_tokens_to_string(context_tokens)\n",
    "        target_text = distil_tokenizer.convert_tokens_to_string(target_tokens)\n",
    "        \n",
    "        # Генерируем продолжение\n",
    "        try:\n",
    "            generated_text = generate_with_distilgpt2(\n",
    "                context_text, \n",
    "                max_new_tokens=len(target_tokens) + 5,  # Генерируем примерно столько же токенов + небольшой запас\n",
    "                do_sample=do_sample,\n",
    "                top_k=top_k,\n",
    "                top_p=top_p,\n",
    "                temperature=temperature\n",
    "            )\n",
    "            \n",
    "            # Извлекаем только сгенерированную часть\n",
    "            generated_continuation = generated_text[len(context_text):].strip()\n",
    "            \n",
    "            preds.append(generated_continuation)\n",
    "            refs.append(target_text)\n",
    "            processed += 1\n",
    "            \n",
    "        except Exception as e:\n",
    "            print(f\"Ошибка при генерации для примера {i}: {e}\")\n",
    "            continue\n",
    "    \n",
    "    print(f\"Обработано {len(preds)} примеров\")\n",
    "    \n",
    "    if len(preds) == 0:\n",
    "        return {\"rouge1\": 0.0, \"rouge2\": 0.0, \"rougeL\": 0.0}\n",
    "    \n",
    "    # Вычисляем ROUGE метрики\n",
    "    rouge_scores = rouge.compute(predictions=preds, references=refs)\n",
    "    return rouge_scores"
   ]
  },
  {
   "cell_type": "code",
   "execution_count": 24,
   "id": "689a4e76",
   "metadata": {},
   "outputs": [
    {
     "name": "stdout",
     "output_type": "stream",
     "text": [
      "Создание валидационной выборки из исходных текстов...\n",
      "Исходных текстов: 1600498\n",
      "Валидационных текстов: 160050\n"
     ]
    }
   ],
   "source": [
    "# Создаем валидационную выборку из исходных текстов\n",
    "print(\"Создание валидационной выборки из исходных текстов...\")\n",
    "\n",
    "# Загружаем исходные тексты\n",
    "with open(r'S:\\yandex\\text-autocomplete\\data\\tweets.txt', 'r') as file:\n",
    "    original_tweets = file.readlines()\n",
    "\n",
    "# Создаем такую же разбивку как для обработанных текстов\n",
    "train_original, temp_original = train_test_split(original_tweets, test_size=0.2, random_state=42)\n",
    "val_original, test_original = train_test_split(temp_original, test_size=0.5, random_state=42)\n",
    "\n",
    "print(f\"Исходных текстов: {len(original_tweets)}\")\n",
    "print(f\"Валидационных текстов: {len(val_original)}\")"
   ]
  },
  {
   "cell_type": "code",
   "execution_count": 28,
   "id": "0bc311ce",
   "metadata": {},
   "outputs": [
    {
     "name": "stdout",
     "output_type": "stream",
     "text": [
      "=== Подбор параметров генерации для distilgpt2 ===\n",
      "\n",
      "Тестирование конфигурации: Консервативная\n",
      "Параметры: top_k=20, top_p=0.9, temperature=0.8\n",
      "Оценка distilgpt2 на 500 примерах...\n"
     ]
    },
    {
     "name": "stderr",
     "output_type": "stream",
     "text": [
      "100%|██████████| 500/500 [00:36<00:00, 13.75it/s]\n"
     ]
    },
    {
     "name": "stdout",
     "output_type": "stream",
     "text": [
      "Обработано 491 примеров\n",
      "ROUGE-1: 0.0489\n",
      "ROUGE-2: 0.0035\n",
      "ROUGE-L: 0.0477\n",
      "\n",
      "Тестирование конфигурации: Стандартная\n",
      "Параметры: top_k=50, top_p=0.95, temperature=1.0\n",
      "Оценка distilgpt2 на 500 примерах...\n"
     ]
    },
    {
     "name": "stderr",
     "output_type": "stream",
     "text": [
      "100%|██████████| 500/500 [00:33<00:00, 14.89it/s]\n"
     ]
    },
    {
     "name": "stdout",
     "output_type": "stream",
     "text": [
      "Обработано 491 примеров\n",
      "ROUGE-1: 0.0460\n",
      "ROUGE-2: 0.0067\n",
      "ROUGE-L: 0.0443\n",
      "\n",
      "Тестирование конфигурации: Креативная\n",
      "Параметры: top_k=100, top_p=0.98, temperature=1.2\n",
      "Оценка distilgpt2 на 500 примерах...\n"
     ]
    },
    {
     "name": "stderr",
     "output_type": "stream",
     "text": [
      "100%|██████████| 500/500 [00:32<00:00, 15.23it/s]\n"
     ]
    },
    {
     "name": "stdout",
     "output_type": "stream",
     "text": [
      "Обработано 491 примеров\n",
      "ROUGE-1: 0.0337\n",
      "ROUGE-2: 0.0016\n",
      "ROUGE-L: 0.0331\n",
      "\n",
      "Тестирование конфигурации: Осторожная\n",
      "Параметры: top_k=10, top_p=0.8, temperature=0.6\n",
      "Оценка distilgpt2 на 500 примерах...\n"
     ]
    },
    {
     "name": "stderr",
     "output_type": "stream",
     "text": [
      "100%|██████████| 500/500 [00:32<00:00, 15.47it/s]\n"
     ]
    },
    {
     "name": "stdout",
     "output_type": "stream",
     "text": [
      "Обработано 491 примеров\n",
      "ROUGE-1: 0.0615\n",
      "ROUGE-2: 0.0092\n",
      "ROUGE-L: 0.0603\n",
      "\n",
      "Тестирование конфигурации: Экспериментальная\n",
      "Параметры: top_k=200, top_p=0.99, temperature=1.5\n",
      "Оценка distilgpt2 на 500 примерах...\n"
     ]
    },
    {
     "name": "stderr",
     "output_type": "stream",
     "text": [
      "100%|██████████| 500/500 [00:32<00:00, 15.28it/s]\n"
     ]
    },
    {
     "name": "stdout",
     "output_type": "stream",
     "text": [
      "Обработано 491 примеров\n",
      "ROUGE-1: 0.0239\n",
      "ROUGE-2: 0.0007\n",
      "ROUGE-L: 0.0231\n",
      "\n",
      "🏆 Лучшая конфигурация: Осторожная\n",
      "Лучший ROUGE-L: 0.0603\n"
     ]
    }
   ],
   "source": [
    "rouge = evaluate.load(\"rouge\")\n",
    "# Подбор параметров генерации (исправленная версия)\n",
    "print(\"=== Подбор параметров генерации для distilgpt2 ===\")\n",
    "\n",
    "# Параметры для тестирования\n",
    "param_configs = [\n",
    "    {\"top_k\": 20, \"top_p\": 0.9, \"temperature\": 0.8, \"name\": \"Консервативная\"},\n",
    "    {\"top_k\": 50, \"top_p\": 0.95, \"temperature\": 1.0, \"name\": \"Стандартная\"},\n",
    "    {\"top_k\": 100, \"top_p\": 0.98, \"temperature\": 1.2, \"name\": \"Креативная\"},\n",
    "    {\"top_k\": 10, \"top_p\": 0.8, \"temperature\": 0.6, \"name\": \"Осторожная\"},\n",
    "    {\"top_k\": 200, \"top_p\": 0.99, \"temperature\": 1.5, \"name\": \"Экспериментальная\"}\n",
    "]\n",
    "\n",
    "def extract_rouge_score(rouge_value):\n",
    "    \"\"\"\n",
    "    Извлекает числовое значение ROUGE метрики.\n",
    "    \n",
    "    Args:\n",
    "        rouge_value: Значение ROUGE метрики (может быть объектом с .mid.fmeasure или просто числом).\n",
    "        \n",
    "    Returns:\n",
    "        float: Числовое значение метрики.\n",
    "    \"\"\"\n",
    "    if hasattr(rouge_value, 'mid') and hasattr(rouge_value.mid, 'fmeasure'):\n",
    "        return rouge_value.mid.fmeasure\n",
    "    elif hasattr(rouge_value, 'fmeasure'):\n",
    "        return rouge_value.fmeasure\n",
    "    else:\n",
    "        return float(rouge_value)\n",
    "\n",
    "best_rouge = 0.0\n",
    "best_config = None\n",
    "results = []\n",
    "\n",
    "for config in param_configs:\n",
    "    print(f\"\\nТестирование конфигурации: {config['name']}\")\n",
    "    print(f\"Параметры: top_k={config['top_k']}, top_p={config['top_p']}, temperature={config['temperature']}\")\n",
    "    \n",
    "    # Используем val_original\n",
    "    rouge_scores = evaluate_distilgpt2_rouge(\n",
    "        val_original,  # Используем исходные тексты\n",
    "        max_samples=500,  # Меньше примеров для быстрого тестирования\n",
    "        max_new_tokens=20,\n",
    "        do_sample=True,\n",
    "        top_k=config['top_k'],\n",
    "        top_p=config['top_p'],\n",
    "        temperature=config['temperature']\n",
    "    )\n",
    "    \n",
    "    # Извлекаем ROUGE scores с помощью универсальной функции\n",
    "    rouge1 = extract_rouge_score(rouge_scores[\"rouge1\"])\n",
    "    rouge2 = extract_rouge_score(rouge_scores[\"rouge2\"])\n",
    "    rouge_l = extract_rouge_score(rouge_scores[\"rougeL\"])\n",
    "    \n",
    "    results.append({\n",
    "        \"config\": config,\n",
    "        \"rouge1\": rouge1,\n",
    "        \"rouge2\": rouge2,\n",
    "        \"rougeL\": rouge_l\n",
    "    })\n",
    "    \n",
    "    print(f\"ROUGE-1: {rouge1:.4f}\")\n",
    "    print(f\"ROUGE-2: {rouge2:.4f}\")\n",
    "    print(f\"ROUGE-L: {rouge_l:.4f}\")\n",
    "    \n",
    "    if rouge_l > best_rouge:\n",
    "        best_rouge = rouge_l\n",
    "        best_config = config\n",
    "\n",
    "print(f\"\\n🏆 Лучшая конфигурация: {best_config['name']}\")\n",
    "print(f\"Лучший ROUGE-L: {best_rouge:.4f}\")"
   ]
  },
  {
   "cell_type": "code",
   "execution_count": 29,
   "id": "157aa261",
   "metadata": {},
   "outputs": [
    {
     "name": "stdout",
     "output_type": "stream",
     "text": [
      "\n",
      "=== Финальная оценка с лучшими параметрами ===\n",
      "Используем конфигурацию: Осторожная\n",
      "Оценка distilgpt2 на 2000 примерах...\n"
     ]
    },
    {
     "name": "stderr",
     "output_type": "stream",
     "text": [
      "100%|██████████| 2000/2000 [02:13<00:00, 15.00it/s]\n"
     ]
    },
    {
     "name": "stdout",
     "output_type": "stream",
     "text": [
      "Обработано 1974 примеров\n",
      "\n",
      "📊 Финальные результаты distilgpt2:\n",
      "ROUGE-1: 0.0629\n",
      "ROUGE-2: 0.0078\n",
      "ROUGE-L: 0.0621\n"
     ]
    }
   ],
   "source": [
    "# Оценка на полной валидационной выборке с лучшими параметрами\n",
    "print(f\"\\n=== Финальная оценка с лучшими параметрами ===\")\n",
    "print(f\"Используем конфигурацию: {best_config['name']}\")\n",
    "\n",
    "final_rouge_scores = evaluate_distilgpt2_rouge(\n",
    "    val_original, \n",
    "    max_samples=2000,\n",
    "    max_new_tokens=20,\n",
    "    do_sample=True,\n",
    "    top_k=best_config['top_k'],\n",
    "    top_p=best_config['top_p'],\n",
    "    temperature=best_config['temperature']\n",
    ")\n",
    "\n",
    "# Извлекаем финальные ROUGE scores\n",
    "final_rouge1 = extract_rouge_score(final_rouge_scores['rouge1'])\n",
    "final_rouge2 = extract_rouge_score(final_rouge_scores['rouge2'])\n",
    "final_rouge_l = extract_rouge_score(final_rouge_scores['rougeL'])\n",
    "\n",
    "print(f\"\\n📊 Финальные результаты distilgpt2:\")\n",
    "print(f\"ROUGE-1: {final_rouge1:.4f}\")\n",
    "print(f\"ROUGE-2: {final_rouge2:.4f}\")\n",
    "print(f\"ROUGE-L: {final_rouge_l:.4f}\")"
   ]
  },
  {
   "cell_type": "code",
   "execution_count": 31,
   "id": "1e159cea",
   "metadata": {},
   "outputs": [
    {
     "name": "stdout",
     "output_type": "stream",
     "text": [
      "\n",
      "=== Примеры предсказаний distilgpt2 ===\n",
      "\n",
      "--- Пример 1 ---\n",
      "Исходный текст: @mgatton nice hair cut!  dude why were your students leaving in the middle of class, 1st period?\n",
      "...\n",
      "Контекст: <user> nice hair cut! dude why were your students leaving in the middle of\n",
      "Ожидаемое продолжение:  class, 1st period?\n",
      "Сгенерированное продолжение: the night?\n",
      "\n",
      "--- Пример 2 ---\n",
      "Исходный текст: Just packed my stethoscope \n",
      "...\n",
      "Контекст: just packed my st\n",
      "Ожидаемое продолжение: ethoscope\n",
      "Сгенерированное продолжение: roller with a bunch of friends and\n",
      "\n",
      "--- Пример 3 ---\n",
      "Исходный текст: I couldn't go to the Revlon Run Walk today because my formerly broken ankle is throbbing.  \n",
      "...\n",
      "Контекст: i couldn't go to the revlon run walk today because my formerly broken\n",
      "Ожидаемое продолжение:  ankle is throbbing.\n",
      "Сгенерированное продолжение: leg was not in the running game. I was\n",
      "\n",
      "--- Пример 4 ---\n",
      "Исходный текст: too much ice cream! \n",
      "...\n",
      "Контекст: too much ice\n",
      "Ожидаемое продолжение:  cream!\n",
      "Сгенерированное продолжение: .\n",
      "\n",
      "--- Пример 5 ---\n",
      "Исходный текст: Don't have my ipod \n",
      "...\n",
      "Контекст: don't have my\n",
      "Ожидаемое продолжение:  ipod\n",
      "Сгенерированное продолжение: name in the game.\n"
     ]
    }
   ],
   "source": [
    "# Примеры предсказаний\n",
    "print(\"\\n=== Примеры предсказаний distilgpt2 ===\")\n",
    "\n",
    "# Выбираем несколько примеров из валидационной выборки\n",
    "sample_indices = [0, 10, 50, 100, 200]\n",
    "sample_texts = [val_original[i] for i in sample_indices if i < len(val_original)]\n",
    "\n",
    "for i, text in enumerate(sample_texts):\n",
    "    print(f\"\\n--- Пример {i+1} ---\")\n",
    "    \n",
    "    # Предобработка - получаем строку, а не токены\n",
    "    processed_text = preprocess_text(text, tokenizer=None)  # Не используем токенизатор\n",
    "    tokens = distil_tokenizer.tokenize(processed_text)\n",
    "    \n",
    "    if len(tokens) < 4:\n",
    "        continue\n",
    "        \n",
    "    # Разбиваем на контекст и цель\n",
    "    cutoff = max(1, int(len(tokens) * 0.75))\n",
    "    context_tokens = tokens[:cutoff]\n",
    "    target_tokens = tokens[cutoff:]\n",
    "    \n",
    "    context_text = distil_tokenizer.convert_tokens_to_string(context_tokens)\n",
    "    target_text = distil_tokenizer.convert_tokens_to_string(target_tokens)\n",
    "    \n",
    "    print(f\"Исходный текст: {text[:100]}...\")\n",
    "    print(f\"Контекст: {context_text}\")\n",
    "    print(f\"Ожидаемое продолжение: {target_text}\")\n",
    "    \n",
    "    # Генерируем с лучшими параметрами\n",
    "    try:\n",
    "        generated_text = generate_with_distilgpt2(\n",
    "            context_text,\n",
    "            max_new_tokens=len(target_tokens) + 5,  # Используем max_new_tokens вместо max_length\n",
    "            do_sample=True,\n",
    "            top_k=best_config['top_k'],\n",
    "            top_p=best_config['top_p'],\n",
    "            temperature=best_config['temperature']\n",
    "        )\n",
    "        \n",
    "        generated_continuation = generated_text[len(context_text):].strip()\n",
    "        print(f\"Сгенерированное продолжение: {generated_continuation}\")\n",
    "        \n",
    "    except Exception as e:\n",
    "        print(f\"Ошибка при генерации: {e}\")"
   ]
  },
  {
   "cell_type": "code",
   "execution_count": null,
   "id": "48f69bb1",
   "metadata": {},
   "outputs": [
    {
     "name": "stdout",
     "output_type": "stream",
     "text": [
      "Загрузка лучшей LSTM модели из чекпоинта...\n",
      "✅ Модель успешно загружена!\n",
      "Путь к модели: S:\\yandex\\deep_learning_s_1\\checkpoints\\best_model.pt\n",
      "\n",
      "🧪 Тестирование загруженной модели...\n",
      "Тестовый ввод: i am feeling\n",
      "Сгенерированный текст: i am feeling. no more... i just don '\n"
     ]
    },
    {
     "name": "stderr",
     "output_type": "stream",
     "text": [
      "C:\\Users\\gavri\\AppData\\Local\\Temp\\ipykernel_12148\\3884275345.py:20: FutureWarning: You are using `torch.load` with `weights_only=False` (the current default value), which uses the default pickle module implicitly. It is possible to construct malicious pickle data which will execute arbitrary code during unpickling (See https://github.com/pytorch/pytorch/blob/main/SECURITY.md#untrusted-models for more details). In a future release, the default value for `weights_only` will be flipped to `True`. This limits the functions that could be executed during unpickling. Arbitrary objects will no longer be allowed to be loaded via this mode unless they are explicitly allowlisted by the user via `torch.serialization.add_safe_globals`. We recommend you start setting `weights_only=True` for any use case where you don't have full control of the loaded file. Please open an issue on GitHub for any issues related to this experimental feature.\n",
      "  best_model.load_state_dict(torch.load(best_path, map_location=device))\n"
     ]
    }
   ],
   "source": [
    "# Загрузка лучшей LSTM модели из чекпоинта (как в оригинальном коде)\n",
    "print(\"Загрузка лучшей LSTM модели из чекпоинта...\")\n",
    "\n",
    "# Путь к лучшей модели\n",
    "best_path = r\"S:\\yandex\\deep_learning_s_1\\checkpoints\\best_model.pt\"\n",
    "\n",
    "# Создаем экземпляр модели с теми же параметрами\n",
    "best_model = LSTMLanguageModel(\n",
    "    vocab_size=vocab_size,\n",
    "    embed_dim=256,\n",
    "    hidden_dim=256,\n",
    "    num_layers=3,\n",
    "    pad_token_id=pad_token_id\n",
    ").to(device)\n",
    "\n",
    "# Загружаем веса модели\n",
    "best_model.load_state_dict(torch.load(best_path, map_location=device))\n",
    "best_model.eval()\n",
    "\n",
    "print(\"✅ Модель успешно загружена!\")\n",
    "print(f\"Путь к модели: {best_path}\")\n",
    "\n",
    "# Тестируем загруженную модель\n",
    "print(\"\\n🧪 Тестирование загруженной модели...\")\n",
    "test_input = \"i am feeling\"\n",
    "input_ids = tokenizer.encode(test_input, return_tensors=\"pt\").to(device)\n",
    "generated_text = best_model.generate(input_ids, tokenizer, max_new_tokens=10, top_k=20)\n",
    "print(f\"Тестовый ввод: {test_input}\")\n",
    "print(f\"Сгенерированный текст: {generated_text}\")"
   ]
  },
  {
   "cell_type": "code",
   "execution_count": null,
   "id": "57496206",
   "metadata": {},
   "outputs": [
    {
     "name": "stdout",
     "output_type": "stream",
     "text": [
      "\n",
      "=== Сравнение distilgpt2 с LSTM ===\n",
      "Оценка LSTM модели...\n",
      "\n",
      "�� Сравнение результатов:\n",
      "Модель          ROUGE-1    ROUGE-2    ROUGE-L   \n",
      "--------------------------------------------------\n",
      "LSTM            0.0359     0.0016     0.0356\n",
      "distilgpt2      0.0629     0.0078     0.0621\n",
      "\n",
      "�� distilgpt2 показывает лучшие результаты (ROUGE-L: 0.0621 vs 0.0356)\n"
     ]
    }
   ],
   "source": [
    "# Сравнение с LSTM моделью\n",
    "print(\"\\n=== Сравнение distilgpt2 с LSTM ===\")\n",
    "\n",
    "# Оценка LSTM на валидационной выборке\n",
    "print(\"Оценка LSTM модели...\")\n",
    "lstm_rouge_scores = evaluate_rouge(\n",
    "    model=best_model,\n",
    "    dataloader=val_loader,\n",
    "    tokenizer=tokenizer,\n",
    "    device=device\n",
    ")\n",
    "\n",
    "# Извлекаем LSTM ROUGE scores\n",
    "lstm_rouge1 = extract_rouge_score(lstm_rouge_scores['rouge1'])\n",
    "lstm_rouge2 = extract_rouge_score(lstm_rouge_scores['rouge2'])\n",
    "lstm_rouge_l = extract_rouge_score(lstm_rouge_scores['rougeL'])\n",
    "\n",
    "print(f\"\\n�� Сравнение результатов:\")\n",
    "print(f\"{'Модель':<15} {'ROUGE-1':<10} {'ROUGE-2':<10} {'ROUGE-L':<10}\")\n",
    "print(\"-\" * 50)\n",
    "print(f\"{'LSTM':<15} {lstm_rouge1:.4f}     {lstm_rouge2:.4f}     {lstm_rouge_l:.4f}\")\n",
    "print(f\"{'distilgpt2':<15} {final_rouge1:.4f}     {final_rouge2:.4f}     {final_rouge_l:.4f}\")\n",
    "\n",
    "# Определяем лучшую модель\n",
    "if final_rouge_l > lstm_rouge_l:\n",
    "    print(f\"\\n�� distilgpt2 показывает лучшие результаты (ROUGE-L: {final_rouge_l:.4f} vs {lstm_rouge_l:.4f})\")\n",
    "else:\n",
    "    print(f\"\\n�� LSTM показывает лучшие результаты (ROUGE-L: {lstm_rouge_l:.4f} vs {final_rouge_l:.4f})\")"
   ]
  },
  {
   "cell_type": "code",
   "execution_count": 45,
   "id": "da115792",
   "metadata": {},
   "outputs": [
    {
     "name": "stdout",
     "output_type": "stream",
     "text": [
      "\n",
      "=== Дополнительные эксперименты ===\n",
      "Тестирование жадного поиска (без сэмплирования)...\n",
      "Оценка distilgpt2 на 500 примерах...\n"
     ]
    },
    {
     "name": "stderr",
     "output_type": "stream",
     "text": [
      "100%|██████████| 500/500 [00:29<00:00, 16.87it/s]\n"
     ]
    },
    {
     "name": "stdout",
     "output_type": "stream",
     "text": [
      "Обработано 491 примеров\n",
      "Жадный поиск ROUGE-L: 0.0696\n",
      "\n",
      "Тестирование разных температур...\n",
      "Оценка distilgpt2 на 300 примерах...\n"
     ]
    },
    {
     "name": "stderr",
     "output_type": "stream",
     "text": [
      "100%|██████████| 300/300 [00:20<00:00, 14.94it/s]\n"
     ]
    },
    {
     "name": "stdout",
     "output_type": "stream",
     "text": [
      "Обработано 295 примеров\n",
      "Температура 0.1: ROUGE-L = 0.0821\n",
      "Оценка distilgpt2 на 300 примерах...\n"
     ]
    },
    {
     "name": "stderr",
     "output_type": "stream",
     "text": [
      "100%|██████████| 300/300 [00:19<00:00, 15.36it/s]\n"
     ]
    },
    {
     "name": "stdout",
     "output_type": "stream",
     "text": [
      "Обработано 295 примеров\n",
      "Температура 0.3: ROUGE-L = 0.0861\n",
      "Оценка distilgpt2 на 300 примерах...\n"
     ]
    },
    {
     "name": "stderr",
     "output_type": "stream",
     "text": [
      "100%|██████████| 300/300 [00:19<00:00, 15.40it/s]\n"
     ]
    },
    {
     "name": "stdout",
     "output_type": "stream",
     "text": [
      "Обработано 295 примеров\n",
      "Температура 0.5: ROUGE-L = 0.0787\n",
      "Оценка distilgpt2 на 300 примерах...\n"
     ]
    },
    {
     "name": "stderr",
     "output_type": "stream",
     "text": [
      "100%|██████████| 300/300 [00:19<00:00, 15.78it/s]\n"
     ]
    },
    {
     "name": "stdout",
     "output_type": "stream",
     "text": [
      "Обработано 295 примеров\n",
      "Температура 0.8: ROUGE-L = 0.0648\n",
      "Оценка distilgpt2 на 300 примерах...\n"
     ]
    },
    {
     "name": "stderr",
     "output_type": "stream",
     "text": [
      "100%|██████████| 300/300 [00:19<00:00, 15.67it/s]\n"
     ]
    },
    {
     "name": "stdout",
     "output_type": "stream",
     "text": [
      "Обработано 295 примеров\n",
      "Температура 1.0: ROUGE-L = 0.0570\n",
      "Оценка distilgpt2 на 300 примерах...\n"
     ]
    },
    {
     "name": "stderr",
     "output_type": "stream",
     "text": [
      "100%|██████████| 300/300 [00:19<00:00, 15.61it/s]\n"
     ]
    },
    {
     "name": "stdout",
     "output_type": "stream",
     "text": [
      "Обработано 295 примеров\n",
      "Температура 1.2: ROUGE-L = 0.0615\n",
      "Оценка distilgpt2 на 300 примерах...\n"
     ]
    },
    {
     "name": "stderr",
     "output_type": "stream",
     "text": [
      "100%|██████████| 300/300 [00:19<00:00, 15.44it/s]\n"
     ]
    },
    {
     "name": "stdout",
     "output_type": "stream",
     "text": [
      "Обработано 295 примеров\n",
      "Температура 1.5: ROUGE-L = 0.0521\n",
      "\n",
      "�� Лучшая температура: 0.3 (ROUGE-L: 0.0861)\n"
     ]
    }
   ],
   "source": [
    "# Дополнительные эксперименты с параметрами\n",
    "print(\"\\n=== Дополнительные эксперименты ===\")\n",
    "\n",
    "# Тестирование без сэмплирования (жадный поиск)\n",
    "print(\"Тестирование жадного поиска (без сэмплирования)...\")\n",
    "greedy_rouge = evaluate_distilgpt2_rouge(\n",
    "    val_original[:500], \n",
    "    max_samples=500,\n",
    "    max_new_tokens=20,\n",
    "    do_sample=False,  # Жадный поиск\n",
    "    top_k=1,\n",
    "    top_p=1.0,\n",
    "    temperature=1.0\n",
    ")\n",
    "\n",
    "greedy_rouge_l = extract_rouge_score(greedy_rouge['rougeL'])\n",
    "print(f\"Жадный поиск ROUGE-L: {greedy_rouge_l:.4f}\")\n",
    "\n",
    "# Тестирование с разными температурами\n",
    "print(\"\\nТестирование разных температур...\")\n",
    "temperatures = [0.1, 0.3, 0.5, 0.8, 1.0, 1.2, 1.5]\n",
    "temp_results = []\n",
    "\n",
    "for temp in temperatures:\n",
    "    temp_rouge = evaluate_distilgpt2_rouge(\n",
    "        val_original[:300], \n",
    "        max_samples=300,\n",
    "        max_new_tokens=20,\n",
    "        do_sample=True,\n",
    "        top_k=best_config['top_k'],\n",
    "        top_p=best_config['top_p'],\n",
    "        temperature=temp\n",
    "    )\n",
    "    temp_rouge_l = extract_rouge_score(temp_rouge['rougeL'])\n",
    "    temp_results.append({\n",
    "        'temperature': temp,\n",
    "        'rouge_l': temp_rouge_l\n",
    "    })\n",
    "    print(f\"Температура {temp}: ROUGE-L = {temp_rouge_l:.4f}\")\n",
    "\n",
    "# Найдем лучшую температуру\n",
    "best_temp_result = max(temp_results, key=lambda x: x['rouge_l'])\n",
    "print(f\"\\n�� Лучшая температура: {best_temp_result['temperature']} (ROUGE-L: {best_temp_result['rouge_l']:.4f})\")"
   ]
  },
  {
   "cell_type": "code",
   "execution_count": 46,
   "id": "bb32ed04",
   "metadata": {},
   "outputs": [
    {
     "data": {
      "image/png": "[encoded data removed]",
      "text/plain": [
       "<Figure size 1500x500 with 3 Axes>"
      ]
     },
     "metadata": {},
     "output_type": "display_data"
    },
    {
     "data": {
      "image/png": "[encoded data removed]",
      "text/plain": [
       "<Figure size 1000x600 with 1 Axes>"
      ]
     },
     "metadata": {},
     "output_type": "display_data"
    }
   ],
   "source": [
    "# График сравнения ROUGE метрик\n",
    "fig, axes = plt.subplots(1, 3, figsize=(15, 5))\n",
    "\n",
    "models = ['LSTM', 'distilgpt2']\n",
    "rouge1_scores = [lstm_rouge1, final_rouge1]\n",
    "rouge2_scores = [lstm_rouge2, final_rouge2]\n",
    "rougeL_scores = [lstm_rouge_l, final_rouge_l]\n",
    "\n",
    "axes[0].bar(models, rouge1_scores, color=['skyblue', 'lightcoral'])\n",
    "axes[0].set_title('ROUGE-1')\n",
    "axes[0].set_ylabel('Score')\n",
    "for i, v in enumerate(rouge1_scores):\n",
    "    axes[0].text(i, v + 0.001, f'{v:.4f}', ha='center')\n",
    "\n",
    "axes[1].bar(models, rouge2_scores, color=['skyblue', 'lightcoral'])\n",
    "axes[1].set_title('ROUGE-2')\n",
    "axes[1].set_ylabel('Score')\n",
    "for i, v in enumerate(rouge2_scores):\n",
    "    axes[1].text(i, v + 0.001, f'{v:.4f}', ha='center')\n",
    "\n",
    "axes[2].bar(models, rougeL_scores, color=['skyblue', 'lightcoral'])\n",
    "axes[2].set_title('ROUGE-L')\n",
    "axes[2].set_ylabel('Score')\n",
    "for i, v in enumerate(rougeL_scores):\n",
    "    axes[2].text(i, v + 0.001, f'{v:.4f}', ha='center')\n",
    "\n",
    "plt.tight_layout()\n",
    "plt.show()\n",
    "\n",
    "# График влияния температуры\n",
    "plt.figure(figsize=(10, 6))\n",
    "temps = [r['temperature'] for r in temp_results]\n",
    "scores = [r['rouge_l'] for r in temp_results]\n",
    "plt.plot(temps, scores, 'bo-', linewidth=2, markersize=8)\n",
    "plt.xlabel('Температура')\n",
    "plt.ylabel('ROUGE-L Score')\n",
    "plt.title('Влияние температуры на качество генерации distilgpt2')\n",
    "plt.grid(True, alpha=0.3)\n",
    "plt.show()"
   ]
  },
  {
   "cell_type": "code",
   "execution_count": null,
   "id": "75a8a203",
   "metadata": {},
   "outputs": [],
   "source": []
  },
  {
   "cell_type": "code",
   "execution_count": null,
   "id": "f402820e",
   "metadata": {},
   "outputs": [],
   "source": []
  },
  {
   "cell_type": "code",
   "execution_count": null,
   "id": "6975fc2b",
   "metadata": {},
   "outputs": [],
   "source": []
  }
 ],
 "metadata": {
  "kernelspec": {
   "display_name": "Python 3",
   "language": "python",
   "name": "python3"
  },
  "language_info": {
   "codemirror_mode": {
    "name": "ipython",
    "version": 3
   },
   "file_extension": ".py",
   "mimetype": "text/x-python",
   "name": "python",
   "nbconvert_exporter": "python",
   "pygments_lexer": "ipython3",
   "version": "3.11.13"
  }
 },
 "nbformat": 4,
 "nbformat_minor": 5
}
